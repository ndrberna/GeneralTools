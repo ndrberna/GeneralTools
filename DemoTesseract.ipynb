{
 "cells": [
  {
   "cell_type": "code",
   "execution_count": null,
   "metadata": {
    "collapsed": false
   },
   "outputs": [],
   "source": [
    "try:\n",
    "    import Image\n",
    "except ImportError:\n",
    "    from PIL import Image\n",
    "import pytesseract\n",
    "import os\n",
    "import sys\n",
    "import subprocess\n",
    "\n",
    "pytesseract.pytesseract.tesseract_cmd ='tesseract'\n",
    "tessdata_dir_config = '--tessdata-dir \".\\\"'\n",
    "\n",
    "#Convesione Image Magick\n",
    "grayImage = []\n",
    "grayImage += ('convert', 'input.jpg')\n",
    "grayImage += ('-resize', '400%')\n",
    "grayImage += ('-type', 'Grayscale','input.tif')\n",
    "proc = subprocess.Popen(grayImage, stderr=subprocess.PIPE)\n",
    "status = proc.wait()\n",
    "error_string = proc.stderr.read()\n",
    "proc.stderr.close()\n",
    "#Fine conversione Image Magick\n",
    "\n"
   ]
  },
  {
   "cell_type": "code",
   "execution_count": null,
   "metadata": {
    "collapsed": false
   },
   "outputs": [],
   "source": [
    "Image.open('input.tif')\n"
   ]
  },
  {
   "cell_type": "code",
   "execution_count": null,
   "metadata": {
    "collapsed": true
   },
   "outputs": [],
   "source": [
    "pytesseract.pytesseract.tesseract_cmd = os.getcwd()"
   ]
  },
  {
   "cell_type": "code",
   "execution_count": null,
   "metadata": {
    "collapsed": false
   },
   "outputs": [],
   "source": [
    "pytesseract.image_to_string(Image.open('input.tif'))"
   ]
  },
  {
   "cell_type": "code",
   "execution_count": null,
   "metadata": {
    "collapsed": false
   },
   "outputs": [],
   "source": [
    "os.getcwd()"
   ]
  },
  {
   "cell_type": "code",
   "execution_count": null,
   "metadata": {
    "collapsed": true
   },
   "outputs": [],
   "source": []
  }
 ],
 "metadata": {
  "kernelspec": {
   "display_name": "Python 2",
   "language": "python",
   "name": "python2"
  },
  "language_info": {
   "codemirror_mode": {
    "name": "ipython",
    "version": 2
   },
   "file_extension": ".py",
   "mimetype": "text/x-python",
   "name": "python",
   "nbconvert_exporter": "python",
   "pygments_lexer": "ipython2",
   "version": "2.7.13"
  }
 },
 "nbformat": 4,
 "nbformat_minor": 1
}
